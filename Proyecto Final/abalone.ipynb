{
 "cells": [
  {
   "source": [
    "# TRABAJO FINAL - APRENDIZAJE AUTOMÁTICO\n",
    "###  - Nuria Bango Iglesias\n",
    "###  - Álvar De Diego López"
   ],
   "cell_type": "markdown",
   "metadata": {}
  },
  {
   "source": [
    "# Abalone UCI\n",
    "### Prediciendo la edad de los abalones dadas medidas físicas. \n",
    "\n",
    "***\n",
    "\n",
    "## Contexto\n",
    "\n",
    "El abulón es el nombre común de un grupo de caracoles marinos de pequeño a gran tamaño, que se encuentran habitualmente en las costas de todo el mundo y se utilizan como manjar en las cocinas. Su concha sobrante se utiliza en joyería debido a su brillo iridiscente. \n",
    "\n",
    "Debido a su demanda y valor económico, a menudo se recolecta en granjas, por lo que es necesario predecir la edad del abalón a partir de medidas físicas. El método tradicional para determinar su edad consiste en cortar la concha a través del cono, teñirla y contar el número de anillos a través de un microscopio, una tarea aburrida y que requiere mucho tiempo, por lo que predecir la edad utilizando otros factores como el peso o la altura que se pueden medir fácilmente agilizaría el proceso.\n",
    "\n",
    "Sabemos que a medida que el abalón crece añade anillos, y a medida que añade nuevas capas a la concha aumenta el peso y el diámetro de la misma. Se puede ver en la imagen de abajo:\n",
    "\n",
    "\n",
    "<img src=\"abalone_rings.jpg\" width=\"500\" />\n",
    "\n",
    "***\n",
    "\n",
    "## Datos\n",
    "\n",
    "Número de instancias: 4177\n",
    "\n",
    "Número de atributos: 8\n",
    "\n",
    "Objetivo: Anillos (Rings)\n",
    "\n",
    "<img src=\"abalone_partes.jpg\" width=\"500\" />\n",
    "\n",
    "| Atributo | Tipo de datos| Unidades | Descripción |\n",
    "| :----: | :----: | :----: | :----: |\n",
    "| Sex | nominal | - | M (masculino), F (femenino), I (infantes) | \n",
    "| Length | continuous | mm |  Longitud de la cáscara | \n",
    "| Diameter | continuous | mm | Perpendicular a la longitud | \n",
    "| Height | continuous | mm | Con carne en la cáscara | \n",
    "| Whole weight | continuous | grams | Abalón completo | \n",
    "| Shucked weight | continuous | grams | Peso de la carne |\n",
    "| Viscera weight | continuous | grams | Peso de la tripa (después del sangrado) |\n",
    "| Shell weight | continuous | grams | Después de ser secado |\n",
    "| Rings | integer | - | +1.5 da la edad en años | \n",
    "\n"
   ],
   "cell_type": "markdown",
   "metadata": {
    "papermill": {
     "duration": 0.015951,
     "end_time": "2021-01-04T23:48:27.668700",
     "exception": false,
     "start_time": "2021-01-04T23:48:27.652749",
     "status": "completed"
    },
    "tags": []
   }
  },
  {
   "source": [
    "## Primeros pasos"
   ],
   "cell_type": "markdown",
   "metadata": {}
  },
  {
   "cell_type": "code",
   "execution_count": null,
   "metadata": {
    "_cell_guid": "79c7e3d0-c299-4dcb-8224-4455121ee9b0",
    "_uuid": "d629ff2d2480ee46fbb7e2d37f6b5fab8052498a",
    "execution": {
     "iopub.execute_input": "2021-01-04T23:48:27.733328Z",
     "iopub.status.busy": "2021-01-04T23:48:27.732710Z",
     "iopub.status.idle": "2021-01-04T23:48:28.685772Z",
     "shell.execute_reply": "2021-01-04T23:48:28.684960Z"
    },
    "papermill": {
     "duration": 0.972773,
     "end_time": "2021-01-04T23:48:28.685914",
     "exception": false,
     "start_time": "2021-01-04T23:48:27.713141",
     "status": "completed"
    },
    "tags": []
   },
   "outputs": [],
   "source": [
    "import numpy as np # linear algebra\n",
    "import pandas as pd # data processing, CSV file I/O\n",
    "import matplotlib.pyplot as plt # plotting\n",
    "import scipy.stats as stats # Stats API\n",
    "import seaborn as sns \n",
    "sns.set(style='whitegrid', palette='colorblind') \n",
    "\n",
    "from sklearn.linear_model import LinearRegression, LogisticRegression\n",
    "from sklearn import svm\n",
    "from sklearn.svm import SVR\n",
    "from sklearn.svm import SVC\n",
    "from mpl_toolkits.mplot3d import Axes3D\n",
    "from sklearn.model_selection import train_test_split\n",
    "from sklearn.preprocessing import StandardScaler"
   ]
  },
  {
   "cell_type": "code",
   "execution_count": null,
   "metadata": {
    "execution": {
     "iopub.execute_input": "2021-01-04T23:48:28.727749Z",
     "iopub.status.busy": "2021-01-04T23:48:28.727133Z",
     "iopub.status.idle": "2021-01-04T23:48:28.744690Z",
     "shell.execute_reply": "2021-01-04T23:48:28.744152Z"
    },
    "papermill": {
     "duration": 0.043075,
     "end_time": "2021-01-04T23:48:28.744817",
     "exception": false,
     "start_time": "2021-01-04T23:48:28.701742",
     "status": "completed"
    },
    "tags": []
   },
   "outputs": [],
   "source": [
    "df = pd.read_csv('abalone_original.csv')\n",
    "df.dataframeName = 'abalone_original.csv'"
   ]
  },
  {
   "cell_type": "code",
   "execution_count": null,
   "metadata": {
    "execution": {
     "iopub.execute_input": "2021-01-04T23:48:28.798342Z",
     "iopub.status.busy": "2021-01-04T23:48:28.787039Z",
     "iopub.status.idle": "2021-01-04T23:48:28.810140Z",
     "shell.execute_reply": "2021-01-04T23:48:28.809558Z"
    },
    "papermill": {
     "duration": 0.049751,
     "end_time": "2021-01-04T23:48:28.810270",
     "exception": false,
     "start_time": "2021-01-04T23:48:28.760519",
     "status": "completed"
    },
    "tags": []
   },
   "outputs": [],
   "source": [
    "df"
   ]
  },
  {
   "cell_type": "code",
   "execution_count": null,
   "metadata": {
    "execution": {
     "iopub.execute_input": "2021-01-04T23:48:28.848529Z",
     "iopub.status.busy": "2021-01-04T23:48:28.847761Z",
     "iopub.status.idle": "2021-01-04T23:48:28.860055Z",
     "shell.execute_reply": "2021-01-04T23:48:28.860695Z"
    },
    "papermill": {
     "duration": 0.034092,
     "end_time": "2021-01-04T23:48:28.860894",
     "exception": false,
     "start_time": "2021-01-04T23:48:28.826802",
     "status": "completed"
    },
    "tags": []
   },
   "outputs": [],
   "source": [
    "df.info()"
   ]
  },
  {
   "cell_type": "code",
   "execution_count": null,
   "metadata": {},
   "outputs": [],
   "source": []
  },
  {
   "source": [
    "# Análisis de variables individuales\n",
    "\n",
    "***\n",
    "\n",
    "## Sexo\n",
    "\n",
    "A partir de los campos de descripción de los datos iniciales sabemos que el sexo se clasifica en Macho, Hembra, lo cual tiene sentido, mientras que Infante parece estar mal clasificado o fue clasificado así ya que era difícil decir el sexo en el momento de la observación ya que el Abalón era Infante.\n",
    "\n",
    "Vamos a confirmar primero que son 3 las categorias y cual de ellas es más frecuente."
   ],
   "cell_type": "markdown",
   "metadata": {}
  },
  {
   "cell_type": "code",
   "execution_count": null,
   "metadata": {},
   "outputs": [],
   "source": [
    "df.sex.describe()"
   ]
  },
  {
   "source": [
    "Podemos confirmar que la categoría sexo sólo tiene 3 campos, principalmente: masculino, femenino e infantil, siendo el masculino el más frecuente. \n",
    "\n",
    "Veamos su densidad, para entender en qué medida es mayor el sexo masculino que el femenino y el infantil en este conjunto de datos."
   ],
   "cell_type": "markdown",
   "metadata": {}
  },
  {
   "cell_type": "code",
   "execution_count": null,
   "metadata": {},
   "outputs": [],
   "source": [
    "df.sex.value_counts(normalize=True).sort_index()"
   ]
  },
  {
   "source": [
    "Por lo tanto, hay un número significativamente mayor de hombres que de otras dos categorías, visualicemos ya que las mujeres y los niños están muy cerca utilizando la densidad relativa para tener una idea de sus diferencias."
   ],
   "cell_type": "markdown",
   "metadata": {}
  },
  {
   "cell_type": "code",
   "execution_count": null,
   "metadata": {},
   "outputs": [],
   "source": [
    "df_sex_category = df.sex.value_counts(normalize=True).sort_index()\n",
    "x = range(len(df_sex_category))\n",
    "figure = plt.figure(figsize=(10, 6))\n",
    "axes1 = figure.add_subplot(1, 2, 1)\n",
    "axes1.bar(x, df_sex_category, color=\"steelblue\",align=\"center\")\n",
    "axes1.set_xticks(x)\n",
    "# Set x axis tick labels\n",
    "axes1.set_xticklabels(df_sex_category.axes[0])\n",
    "# Set x and y axis chart label\n",
    "axes1.set_title(\"Sex Categories\")\n",
    "axes1.set_ylabel(\"Density\")\n",
    "axes1.xaxis.grid(False)\n",
    "# Remove all of the axis tick marks\n",
    "axes1.tick_params(bottom=False, top=False, left=False, right=False)\n",
    "# Hide all of the spines\n",
    "for spine in axes1.spines.values():\n",
    "    spine.set_visible(False)\n",
    "axes1.yaxis.grid(b=True, which=\"major\")"
   ]
  },
  {
   "source": [
    "Hay aproximadamente la misma proporción de mujeres y niños, con un poco más de hombres que de mujeres o niños.\n",
    "\n",
    "Una cosa que podemos notar, es que presumiblemente el sexo es mucho más difícil de reconocer en los infantes y esto es evidente basado en que tenemos ligeramente más infantes que hembras.\n",
    "\n",
    "## Longitud\n",
    "\n",
    "Hagamos una estadística de resumen para ver cómo se distribuye la longitud, esperamos que siga una distribución normal, con algo de asimetría teniendo en cuenta que tenemos niños en el conjunto de datos."
   ],
   "cell_type": "markdown",
   "metadata": {}
  },
  {
   "cell_type": "code",
   "execution_count": null,
   "metadata": {},
   "outputs": [],
   "source": [
    "df.length.describe()"
   ]
  },
  {
   "source": [
    "Lo primero que destaca es que el mínimo es realmente pequeño, 15 mm, lo que tiene sentido debido a los bebés en el conjunto de datos, que puede ser la razón por la que la distribución tendría una distribución sesgada a la izquierda.\n",
    "\n",
    "Vamos a visualizarlo con un gráfico de caja para verificarlo, y ver si hay alguna anomalía como valores atípicos en la longitud.\n"
   ],
   "cell_type": "markdown",
   "metadata": {}
  },
  {
   "cell_type": "code",
   "execution_count": null,
   "metadata": {},
   "outputs": [],
   "source": [
    "def restyle_boxplot(patch):\n",
    "    # change color and linewidth of the whiskers\n",
    "    for whisker in patch['whiskers']:\n",
    "        whisker.set(color='#000000', linewidth=1)\n",
    "\n",
    "    # change color and linewidth of the caps\n",
    "    for cap in patch['caps']:\n",
    "        cap.set(color='#000000', linewidth=1)\n",
    "\n",
    "    # change color and linewidth of the medians\n",
    "    for median in patch['medians']:\n",
    "        median.set(color='#000000', linewidth=2)\n",
    "\n",
    "    # change the style of fliers and their fill\n",
    "    for flier in patch['fliers']:\n",
    "        flier.set(marker='o', color='#000000', alpha=0.2)\n",
    "\n",
    "    for box in patch[\"boxes\"]:\n",
    "        box.set(facecolor='#FFFFFF', alpha=0.5)\n",
    "\n",
    "def numeric_boxplot(numeric_df, label, title):\n",
    "    figure = plt.figure(figsize=(20, 6))\n",
    "    figure.suptitle(title)\n",
    "    axes1 = figure.add_subplot(1, 2, 1)\n",
    "    patch = axes1.boxplot(numeric_df, labels=[label], vert=False, showfliers = True, patch_artist=True, zorder=1)\n",
    "    restyle_boxplot(patch)\n",
    "    axes1.set_title('Diagrama de cajas 1')\n",
    "    axes2 = figure.add_subplot(1, 2, 2)\n",
    "    patch = axes2.boxplot(numeric_df, labels=[label], vert=False, patch_artist=True, zorder=1)\n",
    "    restyle_boxplot(patch)\n",
    "    axes2.set_title('Diagrama de cajas 2')\n",
    "    y = np.random.normal(1, 0.01, size=len(numeric_df))\n",
    "    axes2.plot(numeric_df, y, 'o', color='steelblue', alpha=0.4, zorder=2)\n",
    "    plt.show()\n",
    "    plt.close()\n",
    "\n",
    "numeric_boxplot(df.length, 'Length', 'Distribución de la longitud')"
   ]
  },
  {
   "source": [
    "El diagrama 1 nos dice que existen valores atípicos entre los rangos de 20 a 40, lo que presumiblemente se debe a la presencia de infantes o de especies particulares de abulón de pequeño tamaño.\n",
    "\n",
    "En el diagrama 2 podemos ver que la distribución está efectivamente sesgada a la izquierda y que los valores se centran en el rango 100-140."
   ],
   "cell_type": "markdown",
   "metadata": {}
  },
  {
   "source": [
    "## Peso\n",
    "\n",
    "De las cuatro medidas de peso diferentes: El peso de la cáscara, el peso de las vísceras, el peso del descascarillado y alguna masa desconocida de agua/sangre perdida por el proceso de descascarillado, intentaremos sacar conclusiones como peso total.\n",
    "\n",
    "Peso total = peso de la cáscara+peso de la víscera+peso del descascarillado+masa desconocida de agua/sangre perdida\n",
    "\n",
    "Analizaremos todos los pesos juntos ya que están relacionados entre sí y deberían tener estadísticas similares.\n",
    "\n",
    "Exploremos primero las estadísticas para todas las características del peso:\n"
   ],
   "cell_type": "markdown",
   "metadata": {}
  },
  {
   "cell_type": "code",
   "execution_count": null,
   "metadata": {},
   "outputs": [],
   "source": [
    "df[['whole-weight', 'shucked-weight', 'viscera-weight', 'shell-weight']].describe()"
   ]
  },
  {
   "source": [
    "De las estadísticas resumidas anteriores podemos ver que cada característica de peso tiene una media mayor que la mediana, por lo que podemos esperar una asimetría derecha en la distribución, a diferencia de la longitud y el diámetro.\n",
    "\n",
    "Para todo el peso, podemos ver que los rangos de peso van desde el más bajo de alrededor de 0 gramos hasta el máximo que pesa alrededor de 570 gramos.\n",
    "\n",
    "Es de esperar una tendencia similar, y parece que los pesos tienen una alta varianza, y esto vuelve a lo que dijimos antes, en cuanto a que el abalón es una colección de tamaños pequeños y grandes, por lo que deberíamos esperar que los pesos varíen entre los abalones.\n",
    "\n",
    "Ahora vamos a visualizar la dispersión con un histograma de densidad para ver si parece normal y tiene la asimetría correcta.\n"
   ],
   "cell_type": "markdown",
   "metadata": {}
  },
  {
   "cell_type": "code",
   "execution_count": null,
   "metadata": {},
   "outputs": [],
   "source": [
    "def freeman_diaconis(data):\n",
    "    quartiles = stats.mstats.mquantiles(data, [0.25, 0.5, 0.75])\n",
    "    iqr = quartiles[2] - quartiles[0]\n",
    "    n = len(data)\n",
    "    h = 2.0 * (iqr/n**(1.0/3.0))\n",
    "    return int(h)\n",
    "\n",
    "weights = ['whole-weight', 'shucked-weight', 'viscera-weight', 'shell-weight']\n",
    "figure = plt.figure(figsize=(20, 10))\n",
    "#figure = plt.subplots(nrows=2, ncols=2)\n",
    "for i, k in enumerate(weights):\n",
    "    axes = figure.add_subplot(2, 2, i + 1)\n",
    "    subdata = df[k]\n",
    "    binwidth = freeman_diaconis(subdata)\n",
    "    bins = np.arange(min(subdata), max(subdata) + binwidth, binwidth)\n",
    "    axes.hist(subdata, color=\"steelblue\", bins=bins, density=True, alpha=0.75)\n",
    "    axes.xaxis.grid(False)\n",
    "    axes.set_title(\"Densidad de {}\".format(k))\n",
    "    if (i % 3 == 0):\n",
    "        axes.set_ylabel(\"Density\")\n",
    "    axes.set_xlabel(k)\n",
    "plt.tight_layout()\n"
   ]
  },
  {
   "source": [
    "De hecho, la distribución está sesgada a la derecha y el peso de la cáscara y el peso de las vísceras son similares al peso entero y entre sí.\n",
    "\n",
    "Ahora podemos esperar que el peso entero esté altamente correlacionado con otras variables de peso, lo que no nos ayuda mucho a predecir la edad."
   ],
   "cell_type": "markdown",
   "metadata": {}
  },
  {
   "source": [
    "## Anillos\n",
    "\n",
    "Sabemos que los anillos son un predictor de la edad, por lo que son valores enteros, ya que se cuentan como una cantidad discreta en lugar de valores continuos, por lo que deberíamos ver distribuciones discretas con los anillos, y los recuentos serían más apropiados para el eje Y.\n",
    "\n",
    "Ahora vamos a empezar con las estadísticas de resumen para ver cuál es el número mínimo y máximo de anillos, y dónde se encuentra la media de la muestra.\n"
   ],
   "cell_type": "markdown",
   "metadata": {}
  },
  {
   "cell_type": "code",
   "execution_count": null,
   "metadata": {},
   "outputs": [],
   "source": [
    "df.rings.describe()\n"
   ]
  },
  {
   "source": [
    "Podemos ver que la mayoría de los anillos están entre 8 y 10, mientras que la media está en torno a 10, y como la media es mayor que la mediana, la distribución sería sesgada a la derecha. La varianza de la muestra es menor, por lo que la distribución sería más estrecha, podemos trazar un histograma de densidad para comprobarlo.\n"
   ],
   "cell_type": "markdown",
   "metadata": {}
  },
  {
   "cell_type": "code",
   "execution_count": null,
   "metadata": {},
   "outputs": [],
   "source": [
    "bins = np.arange(min(df.rings), max(df.rings) + binwidth, binwidth)\n",
    "figure = plt.figure(figsize=(10, 6))\n",
    "axes = figure.add_subplot(1, 1, 1)\n",
    "axes.hist(df.rings, bins=20, density=True, alpha=0.75)\n",
    "axes.set_ylabel(\"Density\")\n",
    "axes.set_xlabel(\"Rings\")\n",
    "axes.set_title(\"Histograma de densidad de los anillos\")\n",
    "axes.xaxis.grid(False)\n",
    "plt.show()"
   ]
  },
  {
   "source": [
    "Efectivamente, es como esperábamos, la distribución es sesgada a la derecha y tiene menos dispersión, con una media en torno a 10, por lo que la edad del abalón estaría en torno a los 11,5 años."
   ],
   "cell_type": "markdown",
   "metadata": {}
  },
  {
   "source": [
    "# Análasis a pares\n",
    "\n",
    "Antes de realizar el análisis por pares, visualicemos la matriz de coeficientes de correlación en forma de mapa de calor para entender qué análisis por pares debemos comprobar."
   ],
   "cell_type": "markdown",
   "metadata": {}
  },
  {
   "cell_type": "code",
   "execution_count": null,
   "metadata": {},
   "outputs": [],
   "source": [
    "corr = df.corr('spearman')\n",
    "mask = np.zeros_like(corr, dtype=np.bool)\n",
    "mask[np.triu_indices_from(mask)] = True\n",
    "f, ax = plt.subplots(figsize=(8, 6))\n",
    "cmap = sns.diverging_palette(220, 10, as_cmap=True)\n",
    "sns.heatmap(corr, mask=mask, vmax=1,square=True, \n",
    "            linewidths=.5, cbar_kws={\"shrink\": .5}, ax=ax, annot=True)\n",
    "plt.show()\n",
    "plt.close()"
   ]
  },
  {
   "source": [
    "Observamos que muchas de las variables están altamente correlacionadas entre sí con r > 0,7, podemos esperar que los pesos estén relacionados entre sí como vimos en el análisis univariante, pero es inesperado ver que la altura también está relacionada con los pesos, y la longitud y el diámetro.\n",
    "\n",
    "Podemos ignorar las otras variables de peso ya que no nos dan ninguna información nueva que conozcamos, también esperamos saber que la longitud, la altura y el diámetro están relacionados linealmente, para el cálculo de peso habría que centrarse en:\n",
    "\n",
    "- la altura frente al peso total\n",
    "- la longitud frente al peso total\n",
    "- el diámetro frente al peso total.\n",
    "\n",
    "Con estas conclusiones podemos aventurarnos a decir que hay una correlación algo débil entre los anillos y otras variables.\n"
   ],
   "cell_type": "markdown",
   "metadata": {}
  },
  {
   "cell_type": "markdown",
   "metadata": {
    "papermill": {
     "duration": 0.01587,
     "end_time": "2021-01-04T23:48:28.893968",
     "exception": false,
     "start_time": "2021-01-04T23:48:28.878098",
     "status": "completed"
    },
    "tags": []
   },
   "source": [
    "# Preprocesamiento de datos"
   ]
  },
  {
   "cell_type": "code",
   "execution_count": null,
   "metadata": {
    "execution": {
     "iopub.execute_input": "2021-01-04T23:48:28.936816Z",
     "iopub.status.busy": "2021-01-04T23:48:28.936159Z",
     "iopub.status.idle": "2021-01-04T23:48:28.938661Z",
     "shell.execute_reply": "2021-01-04T23:48:28.939098Z"
    },
    "papermill": {
     "duration": 0.029,
     "end_time": "2021-01-04T23:48:28.939261",
     "exception": false,
     "start_time": "2021-01-04T23:48:28.910261",
     "status": "completed"
    },
    "tags": []
   },
   "outputs": [],
   "source": [
    "def preprocess_and_train(df, target, task):\n",
    "    df = df.copy()\n",
    "    \n",
    "    if target != 'sex':\n",
    "        dummies = pd.get_dummies(df['sex'])\n",
    "        df = pd.concat([df, dummies], axis=1)\n",
    "        df = df.drop('sex', axis=1)\n",
    "    \n",
    "    y = df[target].copy()\n",
    "    X = df.drop(target, axis=1).copy()\n",
    "    \n",
    "    X_train, X_test, y_train, y_test = train_test_split(X, y, train_size=0.7, random_state=1)\n",
    "    \n",
    "    scaler = StandardScaler()\n",
    "    scaler.fit(X_train)\n",
    "    X_train = pd.DataFrame(scaler.transform(X_train),columns=X.columns)\n",
    "    X_test = pd.DataFrame(scaler.transform(X_test), columns=X.columns)\n",
    "    \n",
    "    if task == 'linear':\n",
    "        model = LinearRegression()\n",
    "    elif task == 'logistic':\n",
    "        model = LogisticRegression()\n",
    "    elif task == 'svm':\n",
    "        model = SVC(random_state = 1)\n",
    "    \n",
    "    model.fit(X_train, y_train)\n",
    "\n",
    "    return model.score(X_test, y_test)"
   ]
  },
  {
   "cell_type": "markdown",
   "metadata": {
    "papermill": {
     "duration": 0.016123,
     "end_time": "2021-01-04T23:48:28.972071",
     "exception": false,
     "start_time": "2021-01-04T23:48:28.955948",
     "status": "completed"
    },
    "tags": []
   },
   "source": [
    "## Prediciendo Sexo"
   ]
  },
  {
   "cell_type": "code",
   "execution_count": null,
   "metadata": {
    "execution": {
     "iopub.execute_input": "2021-01-04T23:48:29.067304Z",
     "iopub.status.busy": "2021-01-04T23:48:29.066605Z",
     "iopub.status.idle": "2021-01-04T23:48:29.237044Z",
     "shell.execute_reply": "2021-01-04T23:48:29.236492Z"
    },
    "papermill": {
     "duration": 0.194368,
     "end_time": "2021-01-04T23:48:29.237154",
     "exception": false,
     "start_time": "2021-01-04T23:48:29.042786",
     "status": "completed"
    },
    "tags": []
   },
   "outputs": [],
   "source": [
    "results = preprocess_and_train(df, target='sex', task='logistic')\n",
    "\n",
    "print(\"Precisión de la regresión logistica en Sex: {:.2f}%\".format(results * 100))"
   ]
  },
  {
   "cell_type": "code",
   "execution_count": null,
   "metadata": {},
   "outputs": [],
   "source": [
    "results = preprocess_and_train(df, target='sex', task='svm')\n",
    "\n",
    "print(\"Precisión de SVM en Sex: {:.2f}%\".format(results * 100))"
   ]
  },
  {
   "source": [
    "## Prediciendo Longitud"
   ],
   "cell_type": "markdown",
   "metadata": {
    "papermill": {
     "duration": 0.017756,
     "end_time": "2021-01-04T23:48:29.272658",
     "exception": false,
     "start_time": "2021-01-04T23:48:29.254902",
     "status": "completed"
    },
    "tags": []
   }
  },
  {
   "cell_type": "code",
   "execution_count": null,
   "metadata": {
    "execution": {
     "iopub.execute_input": "2021-01-04T23:48:29.378817Z",
     "iopub.status.busy": "2021-01-04T23:48:29.377861Z",
     "iopub.status.idle": "2021-01-04T23:48:29.437264Z",
     "shell.execute_reply": "2021-01-04T23:48:29.436615Z"
    },
    "papermill": {
     "duration": 0.083063,
     "end_time": "2021-01-04T23:48:29.437400",
     "exception": false,
     "start_time": "2021-01-04T23:48:29.354337",
     "status": "completed"
    },
    "tags": []
   },
   "outputs": [],
   "source": [
    "results = preprocess_and_train(df, target='length', task='linear')\n",
    "\n",
    "print(\"Precisión de la regresión lineal en length: {:.4f}%\".format(results * 100))"
   ]
  },
  {
   "source": [
    "## Prediciendo Diámetro"
   ],
   "cell_type": "markdown",
   "metadata": {
    "papermill": {
     "duration": 0.018686,
     "end_time": "2021-01-04T23:48:29.479962",
     "exception": false,
     "start_time": "2021-01-04T23:48:29.461276",
     "status": "completed"
    },
    "tags": []
   }
  },
  {
   "source": [
    "results = preprocess_and_train(df, target='diameter', task='linear')\n",
    "\n",
    "print(\"Precisión de la regresión lineal en diameter: {:.4f}%\".format(results * 100))"
   ],
   "cell_type": "code",
   "metadata": {
    "execution": {
     "iopub.execute_input": "2021-01-04T23:48:29.582254Z",
     "iopub.status.busy": "2021-01-04T23:48:29.581368Z",
     "iopub.status.idle": "2021-01-04T23:48:29.603687Z",
     "shell.execute_reply": "2021-01-04T23:48:29.603128Z"
    },
    "papermill": {
     "duration": 0.04447,
     "end_time": "2021-01-04T23:48:29.603809",
     "exception": false,
     "start_time": "2021-01-04T23:48:29.559339",
     "status": "completed"
    },
    "tags": []
   },
   "execution_count": null,
   "outputs": []
  },
  {
   "cell_type": "markdown",
   "metadata": {
    "papermill": {
     "duration": 0.019347,
     "end_time": "2021-01-04T23:48:29.642644",
     "exception": false,
     "start_time": "2021-01-04T23:48:29.623297",
     "status": "completed"
    },
    "tags": []
   },
   "source": [
    "## Prediciendo Altura"
   ]
  },
  {
   "cell_type": "code",
   "execution_count": null,
   "metadata": {
    "execution": {
     "iopub.execute_input": "2021-01-04T23:48:29.749324Z",
     "iopub.status.busy": "2021-01-04T23:48:29.748388Z",
     "iopub.status.idle": "2021-01-04T23:48:29.769493Z",
     "shell.execute_reply": "2021-01-04T23:48:29.770182Z"
    },
    "papermill": {
     "duration": 0.046521,
     "end_time": "2021-01-04T23:48:29.770378",
     "exception": false,
     "start_time": "2021-01-04T23:48:29.723857",
     "status": "completed"
    },
    "tags": []
   },
   "outputs": [],
   "source": [
    "results = preprocess_and_train(df, target='height', task='linear')\n",
    "\n",
    "print(\"Precisión de la regresión lineal en height: {:.4f}%\".format(results * 100))"
   ]
  },
  {
   "cell_type": "markdown",
   "metadata": {
    "papermill": {
     "duration": 0.02001,
     "end_time": "2021-01-04T23:48:29.811274",
     "exception": false,
     "start_time": "2021-01-04T23:48:29.791264",
     "status": "completed"
    },
    "tags": []
   },
   "source": [
    "## Prediciendo \"Whole-Weight\"\n"
   ]
  },
  {
   "cell_type": "code",
   "execution_count": null,
   "metadata": {
    "execution": {
     "iopub.execute_input": "2021-01-04T23:48:29.920402Z",
     "iopub.status.busy": "2021-01-04T23:48:29.919762Z",
     "iopub.status.idle": "2021-01-04T23:48:29.945314Z",
     "shell.execute_reply": "2021-01-04T23:48:29.944659Z"
    },
    "papermill": {
     "duration": 0.049528,
     "end_time": "2021-01-04T23:48:29.945429",
     "exception": false,
     "start_time": "2021-01-04T23:48:29.895901",
     "status": "completed"
    },
    "tags": []
   },
   "outputs": [],
   "source": [
    "results = preprocess_and_train(df, target='whole-weight', task='linear')\n",
    "\n",
    "print(\"Precisión de la regresión lineal en whole-weight: {:.4f}%\".format(results * 100))"
   ]
  },
  {
   "cell_type": "markdown",
   "metadata": {
    "papermill": {
     "duration": 0.02146,
     "end_time": "2021-01-04T23:48:29.988329",
     "exception": false,
     "start_time": "2021-01-04T23:48:29.966869",
     "status": "completed"
    },
    "tags": []
   },
   "source": [
    "## Prediciendo \"Shucked-Weight\""
   ]
  },
  {
   "cell_type": "code",
   "execution_count": null,
   "metadata": {
    "execution": {
     "iopub.execute_input": "2021-01-04T23:48:30.103092Z",
     "iopub.status.busy": "2021-01-04T23:48:30.102164Z",
     "iopub.status.idle": "2021-01-04T23:48:30.121868Z",
     "shell.execute_reply": "2021-01-04T23:48:30.121396Z"
    },
    "papermill": {
     "duration": 0.047378,
     "end_time": "2021-01-04T23:48:30.121968",
     "exception": false,
     "start_time": "2021-01-04T23:48:30.074590",
     "status": "completed"
    },
    "tags": []
   },
   "outputs": [],
   "source": [
    "results = preprocess_and_train(df, target='shucked-weight', task='linear')\n",
    "\n",
    "print(\"Precisión de la regresión lineal en shucked-weight: {:.4f}%\".format(results * 100))"
   ]
  },
  {
   "cell_type": "markdown",
   "metadata": {
    "papermill": {
     "duration": 0.021837,
     "end_time": "2021-01-04T23:48:30.166085",
     "exception": false,
     "start_time": "2021-01-04T23:48:30.144248",
     "status": "completed"
    },
    "tags": []
   },
   "source": [
    "## Prediciendo \"Viscera-Weight\"\n"
   ]
  },
  {
   "cell_type": "code",
   "execution_count": null,
   "metadata": {
    "execution": {
     "iopub.execute_input": "2021-01-04T23:48:30.289878Z",
     "iopub.status.busy": "2021-01-04T23:48:30.288900Z",
     "iopub.status.idle": "2021-01-04T23:48:30.306074Z",
     "shell.execute_reply": "2021-01-04T23:48:30.305655Z"
    },
    "papermill": {
     "duration": 0.048328,
     "end_time": "2021-01-04T23:48:30.306188",
     "exception": false,
     "start_time": "2021-01-04T23:48:30.257860",
     "status": "completed"
    },
    "tags": []
   },
   "outputs": [],
   "source": [
    "results = preprocess_and_train(df, target='viscera-weight', task='linear')\n",
    "\n",
    "print(\"Precisión de la regresión lineal en viscera-weight: {:.4f}%\".format(results * 100))"
   ]
  },
  {
   "cell_type": "markdown",
   "metadata": {
    "papermill": {
     "duration": 0.023275,
     "end_time": "2021-01-04T23:48:30.352578",
     "exception": false,
     "start_time": "2021-01-04T23:48:30.329303",
     "status": "completed"
    },
    "tags": []
   },
   "source": [
    "## Prediciendo \"Shell-Weight\""
   ]
  },
  {
   "cell_type": "code",
   "execution_count": null,
   "metadata": {
    "execution": {
     "iopub.execute_input": "2021-01-04T23:48:30.473234Z",
     "iopub.status.busy": "2021-01-04T23:48:30.472292Z",
     "iopub.status.idle": "2021-01-04T23:48:30.494179Z",
     "shell.execute_reply": "2021-01-04T23:48:30.493605Z"
    },
    "papermill": {
     "duration": 0.048246,
     "end_time": "2021-01-04T23:48:30.494321",
     "exception": false,
     "start_time": "2021-01-04T23:48:30.446075",
     "status": "completed"
    },
    "tags": []
   },
   "outputs": [],
   "source": [
    "results = preprocess_and_train(df, target='shell-weight', task='linear')\n",
    "\n",
    "print(\"Precisión de la regresión lineal en shell-weight: {:.4f}%\".format(results * 100))"
   ]
  },
  {
   "cell_type": "markdown",
   "metadata": {
    "papermill": {
     "duration": 0.023912,
     "end_time": "2021-01-04T23:48:30.542319",
     "exception": false,
     "start_time": "2021-01-04T23:48:30.518407",
     "status": "completed"
    },
    "tags": []
   },
   "source": [
    "## Prediciendo Anillos\n"
   ]
  },
  {
   "cell_type": "code",
   "execution_count": null,
   "metadata": {
    "execution": {
     "iopub.execute_input": "2021-01-04T23:48:30.665616Z",
     "iopub.status.busy": "2021-01-04T23:48:30.665011Z",
     "iopub.status.idle": "2021-01-04T23:48:30.690454Z",
     "shell.execute_reply": "2021-01-04T23:48:30.691089Z"
    },
    "papermill": {
     "duration": 0.053898,
     "end_time": "2021-01-04T23:48:30.691274",
     "exception": false,
     "start_time": "2021-01-04T23:48:30.637376",
     "status": "completed"
    },
    "tags": []
   },
   "outputs": [],
   "source": [
    "results = preprocess_and_train(df, target='rings', task='linear')\n",
    "\n",
    "print(\"Precisión de la regresión lineal en rings: {:.4f}%\".format(results * 100))"
   ]
  },
  {
   "cell_type": "code",
   "execution_count": null,
   "metadata": {
    "execution": {
     "iopub.execute_input": "2021-01-04T23:48:30.753191Z",
     "iopub.status.busy": "2021-01-04T23:48:30.752202Z",
     "iopub.status.idle": "2021-01-04T23:48:31.269672Z",
     "shell.execute_reply": "2021-01-04T23:48:31.270251Z"
    },
    "papermill": {
     "duration": 0.548789,
     "end_time": "2021-01-04T23:48:31.270395",
     "exception": false,
     "start_time": "2021-01-04T23:48:30.721606",
     "status": "completed"
    },
    "tags": []
   },
   "outputs": [],
   "source": [
    "results = preprocess_and_train(df, target='rings', task='logistic')\n",
    "\n",
    "print(\"Precisión de la regresión logistica en rings: {:.4f}%\".format(results * 100))"
   ]
  },
  {
   "cell_type": "markdown",
   "metadata": {
    "papermill": {
     "duration": 0.027479,
     "end_time": "2021-01-04T23:48:31.323364",
     "exception": false,
     "start_time": "2021-01-04T23:48:31.295885",
     "status": "completed"
    },
    "tags": []
   },
   "source": [
    "# Bibliografía\n",
    "\n",
    "***\n",
    "\n",
    "El link principal de referencia de Kaggle es: https://www.kaggle.com/hurshd0/abalone-uci\n",
    "\n",
    "El Dataset fue sacado originalmente del repositorio de UCI Machine Learning: https://archive.ics.uci.edu/ml/datasets/Abalone\n"
   ]
  }
 ],
 "metadata": {
  "kernelspec": {
   "display_name": "Python 3",
   "language": "python",
   "name": "python3"
  },
  "language_info": {
   "codemirror_mode": {
    "name": "ipython",
    "version": 3
   },
   "file_extension": ".py",
   "mimetype": "text/x-python",
   "name": "python",
   "nbconvert_exporter": "python",
   "pygments_lexer": "ipython3",
   "version": "3.8.3-final"
  },
  "papermill": {
   "duration": 8.820126,
   "end_time": "2021-01-04T23:48:32.436483",
   "environment_variables": {},
   "exception": null,
   "input_path": "__notebook__.ipynb",
   "output_path": "__notebook__.ipynb",
   "parameters": {},
   "start_time": "2021-01-04T23:48:23.616357",
   "version": "2.1.0"
  }
 },
 "nbformat": 4,
 "nbformat_minor": 4
}