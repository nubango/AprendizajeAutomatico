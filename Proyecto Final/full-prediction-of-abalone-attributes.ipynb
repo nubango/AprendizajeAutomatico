{
 "cells": [
  {
   "source": [
    "# Abalone UCI\n",
    "### Predicting the age of abalone from physical measurements.  \n",
    "\n",
    "***\n",
    "\n",
    "## Contexto\n",
    "\n",
    "El abulón es el nombre común de un grupo de caracoles marinos de pequeño a gran tamaño, que se encuentran habitualmente en las costas de todo el mundo y se utilizan como manjar en las cocinas. Su concha sobrante se utiliza en joyería debido a su brillo iridiscente. \n",
    "\n",
    "Debido a su demanda y valor económico, a menudo se recolecta en granjas, por lo que es necesario predecir la edad del abalón a partir de medidas físicas. El método tradicional para determinar su edad consiste en cortar la concha a través del cono, teñirla y contar el número de anillos a través de un microscopio, una tarea aburrida y que requiere mucho tiempo.\n",
    "\n",
    "\n",
    "<img src=\"abalone_rings.jpg\" width=\"500\" />\n",
    "\n",
    "Given *data about abalone*, let's try to predict **multiple attributes** of a given organism.  \n",
    "  \n",
    "We will use linear regression and logistic regression models to make our predictions.\n",
    "\n",
    "## Datos\n",
    "\n",
    "Número de instancias: 4177\n",
    "\n",
    "Número de atributos: 8\n",
    "\n",
    "Objetivo: Anillos (Rings)\n",
    "\n",
    "Note: Number of rings is the value to predict: either as a continuous value or it can be converted to classification problem.\n",
    "\n",
    "<img src=\"abalone_partes.jpg\" width=\"500\" />\n",
    "\n",
    "| Atributo | Tipo de datos| Unidades | Descripción |\n",
    "| :----: | :----: | :----: | :----: |\n",
    "| Sex | nominal | - | M, F, and I (infant) | \n",
    "| Length | continuous | mm | Longest shell measurement | \n",
    "| Diameter | continuous | mm | perpendicular to length | \n",
    "| Height | continuous | mm | with meat in shell | \n",
    "| Whole weight | continuous | grams | whole abalone | \n",
    "| Shucked weight | continuous | grams | weight of meat |\n",
    "| Viscera weight | continuous | grams | gut weight (after bleeding) |\n",
    "| Shell weight | continuous | grams | after being dried |\n",
    "| Rings | integer | - | +1.5 gives the age in years | \n",
    "\n"
   ],
   "cell_type": "markdown",
   "metadata": {
    "papermill": {
     "duration": 0.015951,
     "end_time": "2021-01-04T23:48:27.668700",
     "exception": false,
     "start_time": "2021-01-04T23:48:27.652749",
     "status": "completed"
    },
    "tags": []
   }
  },
  {
   "source": [
    "## Primeros pasos"
   ],
   "cell_type": "markdown",
   "metadata": {}
  },
  {
   "cell_type": "code",
   "execution_count": 3,
   "metadata": {
    "_cell_guid": "79c7e3d0-c299-4dcb-8224-4455121ee9b0",
    "_uuid": "d629ff2d2480ee46fbb7e2d37f6b5fab8052498a",
    "execution": {
     "iopub.execute_input": "2021-01-04T23:48:27.733328Z",
     "iopub.status.busy": "2021-01-04T23:48:27.732710Z",
     "iopub.status.idle": "2021-01-04T23:48:28.685772Z",
     "shell.execute_reply": "2021-01-04T23:48:28.684960Z"
    },
    "papermill": {
     "duration": 0.972773,
     "end_time": "2021-01-04T23:48:28.685914",
     "exception": false,
     "start_time": "2021-01-04T23:48:27.713141",
     "status": "completed"
    },
    "tags": []
   },
   "outputs": [],
   "source": [
    "import numpy as np # linear algebra\n",
    "import pandas as pd # data processing, CSV file I/O\n",
    "\n",
    "#--------------------------\n",
    "from sklearn.model_selection import train_test_split\n",
    "from sklearn.preprocessing import StandardScaler\n",
    "\n",
    "from sklearn.linear_model import LinearRegression, LogisticRegression\n",
    "#---------------------------t"
   ]
  },
  {
   "cell_type": "code",
   "execution_count": 4,
   "metadata": {
    "execution": {
     "iopub.execute_input": "2021-01-04T23:48:28.727749Z",
     "iopub.status.busy": "2021-01-04T23:48:28.727133Z",
     "iopub.status.idle": "2021-01-04T23:48:28.744690Z",
     "shell.execute_reply": "2021-01-04T23:48:28.744152Z"
    },
    "papermill": {
     "duration": 0.043075,
     "end_time": "2021-01-04T23:48:28.744817",
     "exception": false,
     "start_time": "2021-01-04T23:48:28.701742",
     "status": "completed"
    },
    "tags": []
   },
   "outputs": [],
   "source": [
    "data = pd.read_csv('abalone_original.csv')"
   ]
  },
  {
   "cell_type": "code",
   "execution_count": 5,
   "metadata": {
    "execution": {
     "iopub.execute_input": "2021-01-04T23:48:28.798342Z",
     "iopub.status.busy": "2021-01-04T23:48:28.787039Z",
     "iopub.status.idle": "2021-01-04T23:48:28.810140Z",
     "shell.execute_reply": "2021-01-04T23:48:28.809558Z"
    },
    "papermill": {
     "duration": 0.049751,
     "end_time": "2021-01-04T23:48:28.810270",
     "exception": false,
     "start_time": "2021-01-04T23:48:28.760519",
     "status": "completed"
    },
    "tags": []
   },
   "outputs": [
    {
     "output_type": "execute_result",
     "data": {
      "text/plain": [
       "     sex  length  diameter  height  whole-weight  shucked-weight  \\\n",
       "0      M      91        73      19         102.8            44.9   \n",
       "1      M      70        53      18          45.1            19.9   \n",
       "2      F     106        84      27         135.4            51.3   \n",
       "3      M      88        73      25         103.2            43.1   \n",
       "4      I      66        51      16          41.0            17.9   \n",
       "...   ..     ...       ...     ...           ...             ...   \n",
       "4172   F     113        90      33         177.4            74.0   \n",
       "4173   M     118        88      27         193.2            87.8   \n",
       "4174   M     120        95      41         235.2           105.1   \n",
       "4175   F     125        97      30         218.9           106.2   \n",
       "4176   M     142       111      39         389.7           189.1   \n",
       "\n",
       "      viscera-weight  shell-weight  rings  \n",
       "0               20.2          30.0     15  \n",
       "1                9.7          14.0      7  \n",
       "2               28.3          42.0      9  \n",
       "3               22.8          31.0     10  \n",
       "4                7.9          11.0      7  \n",
       "...              ...           ...    ...  \n",
       "4172            47.8          49.8     11  \n",
       "4173            42.9          52.1     10  \n",
       "4174            57.5          61.6      9  \n",
       "4175            52.2          59.2     10  \n",
       "4176            75.3          99.0     12  \n",
       "\n",
       "[4177 rows x 9 columns]"
      ],
      "text/html": "<div>\n<style scoped>\n    .dataframe tbody tr th:only-of-type {\n        vertical-align: middle;\n    }\n\n    .dataframe tbody tr th {\n        vertical-align: top;\n    }\n\n    .dataframe thead th {\n        text-align: right;\n    }\n</style>\n<table border=\"1\" class=\"dataframe\">\n  <thead>\n    <tr style=\"text-align: right;\">\n      <th></th>\n      <th>sex</th>\n      <th>length</th>\n      <th>diameter</th>\n      <th>height</th>\n      <th>whole-weight</th>\n      <th>shucked-weight</th>\n      <th>viscera-weight</th>\n      <th>shell-weight</th>\n      <th>rings</th>\n    </tr>\n  </thead>\n  <tbody>\n    <tr>\n      <th>0</th>\n      <td>M</td>\n      <td>91</td>\n      <td>73</td>\n      <td>19</td>\n      <td>102.8</td>\n      <td>44.9</td>\n      <td>20.2</td>\n      <td>30.0</td>\n      <td>15</td>\n    </tr>\n    <tr>\n      <th>1</th>\n      <td>M</td>\n      <td>70</td>\n      <td>53</td>\n      <td>18</td>\n      <td>45.1</td>\n      <td>19.9</td>\n      <td>9.7</td>\n      <td>14.0</td>\n      <td>7</td>\n    </tr>\n    <tr>\n      <th>2</th>\n      <td>F</td>\n      <td>106</td>\n      <td>84</td>\n      <td>27</td>\n      <td>135.4</td>\n      <td>51.3</td>\n      <td>28.3</td>\n      <td>42.0</td>\n      <td>9</td>\n    </tr>\n    <tr>\n      <th>3</th>\n      <td>M</td>\n      <td>88</td>\n      <td>73</td>\n      <td>25</td>\n      <td>103.2</td>\n      <td>43.1</td>\n      <td>22.8</td>\n      <td>31.0</td>\n      <td>10</td>\n    </tr>\n    <tr>\n      <th>4</th>\n      <td>I</td>\n      <td>66</td>\n      <td>51</td>\n      <td>16</td>\n      <td>41.0</td>\n      <td>17.9</td>\n      <td>7.9</td>\n      <td>11.0</td>\n      <td>7</td>\n    </tr>\n    <tr>\n      <th>...</th>\n      <td>...</td>\n      <td>...</td>\n      <td>...</td>\n      <td>...</td>\n      <td>...</td>\n      <td>...</td>\n      <td>...</td>\n      <td>...</td>\n      <td>...</td>\n    </tr>\n    <tr>\n      <th>4172</th>\n      <td>F</td>\n      <td>113</td>\n      <td>90</td>\n      <td>33</td>\n      <td>177.4</td>\n      <td>74.0</td>\n      <td>47.8</td>\n      <td>49.8</td>\n      <td>11</td>\n    </tr>\n    <tr>\n      <th>4173</th>\n      <td>M</td>\n      <td>118</td>\n      <td>88</td>\n      <td>27</td>\n      <td>193.2</td>\n      <td>87.8</td>\n      <td>42.9</td>\n      <td>52.1</td>\n      <td>10</td>\n    </tr>\n    <tr>\n      <th>4174</th>\n      <td>M</td>\n      <td>120</td>\n      <td>95</td>\n      <td>41</td>\n      <td>235.2</td>\n      <td>105.1</td>\n      <td>57.5</td>\n      <td>61.6</td>\n      <td>9</td>\n    </tr>\n    <tr>\n      <th>4175</th>\n      <td>F</td>\n      <td>125</td>\n      <td>97</td>\n      <td>30</td>\n      <td>218.9</td>\n      <td>106.2</td>\n      <td>52.2</td>\n      <td>59.2</td>\n      <td>10</td>\n    </tr>\n    <tr>\n      <th>4176</th>\n      <td>M</td>\n      <td>142</td>\n      <td>111</td>\n      <td>39</td>\n      <td>389.7</td>\n      <td>189.1</td>\n      <td>75.3</td>\n      <td>99.0</td>\n      <td>12</td>\n    </tr>\n  </tbody>\n</table>\n<p>4177 rows × 9 columns</p>\n</div>"
     },
     "metadata": {},
     "execution_count": 5
    }
   ],
   "source": [
    "data"
   ]
  },
  {
   "cell_type": "code",
   "execution_count": 6,
   "metadata": {
    "execution": {
     "iopub.execute_input": "2021-01-04T23:48:28.848529Z",
     "iopub.status.busy": "2021-01-04T23:48:28.847761Z",
     "iopub.status.idle": "2021-01-04T23:48:28.860055Z",
     "shell.execute_reply": "2021-01-04T23:48:28.860695Z"
    },
    "papermill": {
     "duration": 0.034092,
     "end_time": "2021-01-04T23:48:28.860894",
     "exception": false,
     "start_time": "2021-01-04T23:48:28.826802",
     "status": "completed"
    },
    "tags": []
   },
   "outputs": [
    {
     "output_type": "stream",
     "name": "stdout",
     "text": [
      "<class 'pandas.core.frame.DataFrame'>\nRangeIndex: 4177 entries, 0 to 4176\nData columns (total 9 columns):\n #   Column          Non-Null Count  Dtype  \n---  ------          --------------  -----  \n 0   sex             4177 non-null   object \n 1   length          4177 non-null   int64  \n 2   diameter        4177 non-null   int64  \n 3   height          4177 non-null   int64  \n 4   whole-weight    4177 non-null   float64\n 5   shucked-weight  4177 non-null   float64\n 6   viscera-weight  4177 non-null   float64\n 7   shell-weight    4177 non-null   float64\n 8   rings           4177 non-null   int64  \ndtypes: float64(4), int64(4), object(1)\nmemory usage: 293.8+ KB\n"
     ]
    }
   ],
   "source": [
    "data.info()"
   ]
  },
  {
   "cell_type": "markdown",
   "metadata": {
    "papermill": {
     "duration": 0.01587,
     "end_time": "2021-01-04T23:48:28.893968",
     "exception": false,
     "start_time": "2021-01-04T23:48:28.878098",
     "status": "completed"
    },
    "tags": []
   },
   "source": [
    "# Preprocessing + Training Function"
   ]
  },
  {
   "cell_type": "code",
   "execution_count": null,
   "metadata": {
    "execution": {
     "iopub.execute_input": "2021-01-04T23:48:28.936816Z",
     "iopub.status.busy": "2021-01-04T23:48:28.936159Z",
     "iopub.status.idle": "2021-01-04T23:48:28.938661Z",
     "shell.execute_reply": "2021-01-04T23:48:28.939098Z"
    },
    "papermill": {
     "duration": 0.029,
     "end_time": "2021-01-04T23:48:28.939261",
     "exception": false,
     "start_time": "2021-01-04T23:48:28.910261",
     "status": "completed"
    },
    "tags": []
   },
   "outputs": [],
   "source": [
    "def preprocess_and_train(df, target, task):\n",
    "    df = df.copy()\n",
    "    \n",
    "    # If the sex column is not the target, one-hot encode it\n",
    "    if target != 'sex':\n",
    "        dummies = pd.get_dummies(df['sex'])\n",
    "        df = pd.concat([df, dummies], axis=1)\n",
    "        df = df.drop('sex', axis=1)\n",
    "    \n",
    "    # Split target from df\n",
    "    y = df[target].copy()\n",
    "    X = df.drop(target, axis=1).copy()\n",
    "    \n",
    "    # Train-test split\n",
    "    X_train, X_test, y_train, y_test = train_test_split(X, y, train_size=0.7, random_state=1)\n",
    "    \n",
    "    # Scale X\n",
    "    scaler = StandardScaler()\n",
    "    scaler.fit(X_train)\n",
    "    X_train = pd.DataFrame(scaler.transform(X_train), columns=X.columns)\n",
    "    X_test = pd.DataFrame(scaler.transform(X_test), columns=X.columns)\n",
    "    \n",
    "    # Define model\n",
    "    if task == 'regression':\n",
    "        model = LinearRegression()\n",
    "    elif task == 'classification':\n",
    "        model = LogisticRegression()\n",
    "    \n",
    "    # Fit model to train set\n",
    "    model.fit(X_train, y_train)\n",
    "    \n",
    "    # Return the test results\n",
    "    return model.score(X_test, y_test)"
   ]
  },
  {
   "cell_type": "markdown",
   "metadata": {
    "papermill": {
     "duration": 0.016123,
     "end_time": "2021-01-04T23:48:28.972071",
     "exception": false,
     "start_time": "2021-01-04T23:48:28.955948",
     "status": "completed"
    },
    "tags": []
   },
   "source": [
    "# Predicting Sex Column"
   ]
  },
  {
   "cell_type": "code",
   "execution_count": null,
   "metadata": {
    "execution": {
     "iopub.execute_input": "2021-01-04T23:48:29.022133Z",
     "iopub.status.busy": "2021-01-04T23:48:29.021510Z",
     "iopub.status.idle": "2021-01-04T23:48:29.025449Z",
     "shell.execute_reply": "2021-01-04T23:48:29.024890Z"
    },
    "papermill": {
     "duration": 0.036906,
     "end_time": "2021-01-04T23:48:29.025554",
     "exception": false,
     "start_time": "2021-01-04T23:48:28.988648",
     "status": "completed"
    },
    "tags": []
   },
   "outputs": [],
   "source": [
    "data"
   ]
  },
  {
   "cell_type": "code",
   "execution_count": null,
   "metadata": {
    "execution": {
     "iopub.execute_input": "2021-01-04T23:48:29.067304Z",
     "iopub.status.busy": "2021-01-04T23:48:29.066605Z",
     "iopub.status.idle": "2021-01-04T23:48:29.237044Z",
     "shell.execute_reply": "2021-01-04T23:48:29.236492Z"
    },
    "papermill": {
     "duration": 0.194368,
     "end_time": "2021-01-04T23:48:29.237154",
     "exception": false,
     "start_time": "2021-01-04T23:48:29.042786",
     "status": "completed"
    },
    "tags": []
   },
   "outputs": [],
   "source": [
    "results = preprocess_and_train(data, target='sex', task='classification')\n",
    "\n",
    "print(\"Sex Classification Accuracy: {:.2f}%\".format(results * 100))"
   ]
  },
  {
   "source": [
    "# Predicting Length Column"
   ],
   "cell_type": "code",
   "metadata": {
    "papermill": {
     "duration": 0.017756,
     "end_time": "2021-01-04T23:48:29.272658",
     "exception": false,
     "start_time": "2021-01-04T23:48:29.254902",
     "status": "completed"
    },
    "tags": []
   },
   "execution_count": null,
   "outputs": []
  },
  {
   "cell_type": "code",
   "execution_count": null,
   "metadata": {
    "execution": {
     "iopub.execute_input": "2021-01-04T23:48:29.325895Z",
     "iopub.status.busy": "2021-01-04T23:48:29.313136Z",
     "iopub.status.idle": "2021-01-04T23:48:29.330733Z",
     "shell.execute_reply": "2021-01-04T23:48:29.329970Z"
    },
    "papermill": {
     "duration": 0.039903,
     "end_time": "2021-01-04T23:48:29.330868",
     "exception": false,
     "start_time": "2021-01-04T23:48:29.290965",
     "status": "completed"
    },
    "tags": []
   },
   "outputs": [],
   "source": [
    "data"
   ]
  },
  {
   "cell_type": "code",
   "execution_count": null,
   "metadata": {
    "execution": {
     "iopub.execute_input": "2021-01-04T23:48:29.378817Z",
     "iopub.status.busy": "2021-01-04T23:48:29.377861Z",
     "iopub.status.idle": "2021-01-04T23:48:29.437264Z",
     "shell.execute_reply": "2021-01-04T23:48:29.436615Z"
    },
    "papermill": {
     "duration": 0.083063,
     "end_time": "2021-01-04T23:48:29.437400",
     "exception": false,
     "start_time": "2021-01-04T23:48:29.354337",
     "status": "completed"
    },
    "tags": []
   },
   "outputs": [],
   "source": [
    "results = preprocess_and_train(data, target='length', task='regression')\n",
    "\n",
    "print(\"Length Regression R^2: {:.4f}\".format(results))"
   ]
  },
  {
   "source": [
    "# Predicting Diameter Column"
   ],
   "cell_type": "markdown",
   "metadata": {
    "papermill": {
     "duration": 0.018686,
     "end_time": "2021-01-04T23:48:29.479962",
     "exception": false,
     "start_time": "2021-01-04T23:48:29.461276",
     "status": "completed"
    },
    "tags": []
   }
  },
  {
   "cell_type": "code",
   "execution_count": null,
   "metadata": {
    "execution": {
     "iopub.execute_input": "2021-01-04T23:48:29.536807Z",
     "iopub.status.busy": "2021-01-04T23:48:29.535878Z",
     "iopub.status.idle": "2021-01-04T23:48:29.539467Z",
     "shell.execute_reply": "2021-01-04T23:48:29.540112Z"
    },
    "papermill": {
     "duration": 0.040872,
     "end_time": "2021-01-04T23:48:29.540267",
     "exception": false,
     "start_time": "2021-01-04T23:48:29.499395",
     "status": "completed"
    },
    "tags": []
   },
   "outputs": [],
   "source": [
    "data"
   ]
  },
  {
   "source": [
    "results = preprocess_and_train(data, target='diameter', task='regression')\n",
    "\n",
    "print(\"Diameter Regression R^2: {:.4f}\".format(results))"
   ],
   "cell_type": "code",
   "metadata": {
    "execution": {
     "iopub.execute_input": "2021-01-04T23:48:29.582254Z",
     "iopub.status.busy": "2021-01-04T23:48:29.581368Z",
     "iopub.status.idle": "2021-01-04T23:48:29.603687Z",
     "shell.execute_reply": "2021-01-04T23:48:29.603128Z"
    },
    "papermill": {
     "duration": 0.04447,
     "end_time": "2021-01-04T23:48:29.603809",
     "exception": false,
     "start_time": "2021-01-04T23:48:29.559339",
     "status": "completed"
    },
    "tags": []
   },
   "execution_count": null,
   "outputs": []
  },
  {
   "cell_type": "markdown",
   "metadata": {
    "papermill": {
     "duration": 0.019347,
     "end_time": "2021-01-04T23:48:29.642644",
     "exception": false,
     "start_time": "2021-01-04T23:48:29.623297",
     "status": "completed"
    },
    "tags": []
   },
   "source": [
    "# Predicting Height Column"
   ]
  },
  {
   "cell_type": "code",
   "execution_count": null,
   "metadata": {
    "execution": {
     "iopub.execute_input": "2021-01-04T23:48:29.691606Z",
     "iopub.status.busy": "2021-01-04T23:48:29.686283Z",
     "iopub.status.idle": "2021-01-04T23:48:29.703783Z",
     "shell.execute_reply": "2021-01-04T23:48:29.703250Z"
    },
    "papermill": {
     "duration": 0.041595,
     "end_time": "2021-01-04T23:48:29.703885",
     "exception": false,
     "start_time": "2021-01-04T23:48:29.662290",
     "status": "completed"
    },
    "tags": []
   },
   "outputs": [],
   "source": [
    "data"
   ]
  },
  {
   "cell_type": "code",
   "execution_count": null,
   "metadata": {
    "execution": {
     "iopub.execute_input": "2021-01-04T23:48:29.749324Z",
     "iopub.status.busy": "2021-01-04T23:48:29.748388Z",
     "iopub.status.idle": "2021-01-04T23:48:29.769493Z",
     "shell.execute_reply": "2021-01-04T23:48:29.770182Z"
    },
    "papermill": {
     "duration": 0.046521,
     "end_time": "2021-01-04T23:48:29.770378",
     "exception": false,
     "start_time": "2021-01-04T23:48:29.723857",
     "status": "completed"
    },
    "tags": []
   },
   "outputs": [],
   "source": [
    "results = preprocess_and_train(data, target='height', task='regression')\n",
    "\n",
    "print(\"Height Regression R^2: {:.4f}\".format(results))"
   ]
  },
  {
   "cell_type": "markdown",
   "metadata": {
    "papermill": {
     "duration": 0.02001,
     "end_time": "2021-01-04T23:48:29.811274",
     "exception": false,
     "start_time": "2021-01-04T23:48:29.791264",
     "status": "completed"
    },
    "tags": []
   },
   "source": [
    "# Predicting Whole-Weight Column"
   ]
  },
  {
   "cell_type": "code",
   "execution_count": null,
   "metadata": {
    "execution": {
     "iopub.execute_input": "2021-01-04T23:48:29.870368Z",
     "iopub.status.busy": "2021-01-04T23:48:29.862334Z",
     "iopub.status.idle": "2021-01-04T23:48:29.874638Z",
     "shell.execute_reply": "2021-01-04T23:48:29.874074Z"
    },
    "papermill": {
     "duration": 0.043294,
     "end_time": "2021-01-04T23:48:29.874755",
     "exception": false,
     "start_time": "2021-01-04T23:48:29.831461",
     "status": "completed"
    },
    "tags": []
   },
   "outputs": [],
   "source": [
    "data"
   ]
  },
  {
   "cell_type": "code",
   "execution_count": null,
   "metadata": {
    "execution": {
     "iopub.execute_input": "2021-01-04T23:48:29.920402Z",
     "iopub.status.busy": "2021-01-04T23:48:29.919762Z",
     "iopub.status.idle": "2021-01-04T23:48:29.945314Z",
     "shell.execute_reply": "2021-01-04T23:48:29.944659Z"
    },
    "papermill": {
     "duration": 0.049528,
     "end_time": "2021-01-04T23:48:29.945429",
     "exception": false,
     "start_time": "2021-01-04T23:48:29.895901",
     "status": "completed"
    },
    "tags": []
   },
   "outputs": [],
   "source": [
    "results = preprocess_and_train(data, target='whole-weight', task='regression')\n",
    "\n",
    "print(\"Whole-Weight Regression R^2: {:.4f}\".format(results))"
   ]
  },
  {
   "cell_type": "markdown",
   "metadata": {
    "papermill": {
     "duration": 0.02146,
     "end_time": "2021-01-04T23:48:29.988329",
     "exception": false,
     "start_time": "2021-01-04T23:48:29.966869",
     "status": "completed"
    },
    "tags": []
   },
   "source": [
    "# Predicting Shucked-Weight Column"
   ]
  },
  {
   "cell_type": "code",
   "execution_count": null,
   "metadata": {
    "execution": {
     "iopub.execute_input": "2021-01-04T23:48:30.034812Z",
     "iopub.status.busy": "2021-01-04T23:48:30.033903Z",
     "iopub.status.idle": "2021-01-04T23:48:30.052240Z",
     "shell.execute_reply": "2021-01-04T23:48:30.051758Z"
    },
    "papermill": {
     "duration": 0.042612,
     "end_time": "2021-01-04T23:48:30.052363",
     "exception": false,
     "start_time": "2021-01-04T23:48:30.009751",
     "status": "completed"
    },
    "tags": []
   },
   "outputs": [],
   "source": [
    "data"
   ]
  },
  {
   "cell_type": "code",
   "execution_count": null,
   "metadata": {
    "execution": {
     "iopub.execute_input": "2021-01-04T23:48:30.103092Z",
     "iopub.status.busy": "2021-01-04T23:48:30.102164Z",
     "iopub.status.idle": "2021-01-04T23:48:30.121868Z",
     "shell.execute_reply": "2021-01-04T23:48:30.121396Z"
    },
    "papermill": {
     "duration": 0.047378,
     "end_time": "2021-01-04T23:48:30.121968",
     "exception": false,
     "start_time": "2021-01-04T23:48:30.074590",
     "status": "completed"
    },
    "tags": []
   },
   "outputs": [],
   "source": [
    "results = preprocess_and_train(data, target='shucked-weight', task='regression')\n",
    "\n",
    "print(\"Shucked-Weight Regression R^2: {:.4f}\".format(results))"
   ]
  },
  {
   "cell_type": "markdown",
   "metadata": {
    "papermill": {
     "duration": 0.021837,
     "end_time": "2021-01-04T23:48:30.166085",
     "exception": false,
     "start_time": "2021-01-04T23:48:30.144248",
     "status": "completed"
    },
    "tags": []
   },
   "source": [
    "# Predicting Viscera-Weight Column"
   ]
  },
  {
   "cell_type": "code",
   "execution_count": null,
   "metadata": {
    "execution": {
     "iopub.execute_input": "2021-01-04T23:48:30.222368Z",
     "iopub.status.busy": "2021-01-04T23:48:30.221606Z",
     "iopub.status.idle": "2021-01-04T23:48:30.231237Z",
     "shell.execute_reply": "2021-01-04T23:48:30.231827Z"
    },
    "papermill": {
     "duration": 0.043937,
     "end_time": "2021-01-04T23:48:30.231986",
     "exception": false,
     "start_time": "2021-01-04T23:48:30.188049",
     "status": "completed"
    },
    "tags": []
   },
   "outputs": [],
   "source": [
    "data"
   ]
  },
  {
   "cell_type": "code",
   "execution_count": null,
   "metadata": {
    "execution": {
     "iopub.execute_input": "2021-01-04T23:48:30.289878Z",
     "iopub.status.busy": "2021-01-04T23:48:30.288900Z",
     "iopub.status.idle": "2021-01-04T23:48:30.306074Z",
     "shell.execute_reply": "2021-01-04T23:48:30.305655Z"
    },
    "papermill": {
     "duration": 0.048328,
     "end_time": "2021-01-04T23:48:30.306188",
     "exception": false,
     "start_time": "2021-01-04T23:48:30.257860",
     "status": "completed"
    },
    "tags": []
   },
   "outputs": [],
   "source": [
    "results = preprocess_and_train(data, target='viscera-weight', task='regression')\n",
    "\n",
    "print(\"Viscera-Weight Regression R^2: {:.4f}\".format(results))"
   ]
  },
  {
   "cell_type": "markdown",
   "metadata": {
    "papermill": {
     "duration": 0.023275,
     "end_time": "2021-01-04T23:48:30.352578",
     "exception": false,
     "start_time": "2021-01-04T23:48:30.329303",
     "status": "completed"
    },
    "tags": []
   },
   "source": [
    "# Predicting Shell-Weight Column"
   ]
  },
  {
   "cell_type": "code",
   "execution_count": null,
   "metadata": {
    "execution": {
     "iopub.execute_input": "2021-01-04T23:48:30.416940Z",
     "iopub.status.busy": "2021-01-04T23:48:30.404089Z",
     "iopub.status.idle": "2021-01-04T23:48:30.421002Z",
     "shell.execute_reply": "2021-01-04T23:48:30.421493Z"
    },
    "papermill": {
     "duration": 0.045349,
     "end_time": "2021-01-04T23:48:30.421631",
     "exception": false,
     "start_time": "2021-01-04T23:48:30.376282",
     "status": "completed"
    },
    "tags": []
   },
   "outputs": [],
   "source": [
    "data"
   ]
  },
  {
   "cell_type": "code",
   "execution_count": null,
   "metadata": {
    "execution": {
     "iopub.execute_input": "2021-01-04T23:48:30.473234Z",
     "iopub.status.busy": "2021-01-04T23:48:30.472292Z",
     "iopub.status.idle": "2021-01-04T23:48:30.494179Z",
     "shell.execute_reply": "2021-01-04T23:48:30.493605Z"
    },
    "papermill": {
     "duration": 0.048246,
     "end_time": "2021-01-04T23:48:30.494321",
     "exception": false,
     "start_time": "2021-01-04T23:48:30.446075",
     "status": "completed"
    },
    "tags": []
   },
   "outputs": [],
   "source": [
    "results = preprocess_and_train(data, target='shell-weight', task='regression')\n",
    "\n",
    "print(\"Shell-Weight Regression R^2: {:.4f}\".format(results))"
   ]
  },
  {
   "cell_type": "markdown",
   "metadata": {
    "papermill": {
     "duration": 0.023912,
     "end_time": "2021-01-04T23:48:30.542319",
     "exception": false,
     "start_time": "2021-01-04T23:48:30.518407",
     "status": "completed"
    },
    "tags": []
   },
   "source": [
    "# Predicting Rings Column"
   ]
  },
  {
   "cell_type": "code",
   "execution_count": null,
   "metadata": {
    "execution": {
     "iopub.execute_input": "2021-01-04T23:48:30.607800Z",
     "iopub.status.busy": "2021-01-04T23:48:30.600059Z",
     "iopub.status.idle": "2021-01-04T23:48:30.611978Z",
     "shell.execute_reply": "2021-01-04T23:48:30.611440Z"
    },
    "papermill": {
     "duration": 0.045408,
     "end_time": "2021-01-04T23:48:30.612081",
     "exception": false,
     "start_time": "2021-01-04T23:48:30.566673",
     "status": "completed"
    },
    "tags": []
   },
   "outputs": [],
   "source": [
    "data"
   ]
  },
  {
   "cell_type": "code",
   "execution_count": null,
   "metadata": {
    "execution": {
     "iopub.execute_input": "2021-01-04T23:48:30.665616Z",
     "iopub.status.busy": "2021-01-04T23:48:30.665011Z",
     "iopub.status.idle": "2021-01-04T23:48:30.690454Z",
     "shell.execute_reply": "2021-01-04T23:48:30.691089Z"
    },
    "papermill": {
     "duration": 0.053898,
     "end_time": "2021-01-04T23:48:30.691274",
     "exception": false,
     "start_time": "2021-01-04T23:48:30.637376",
     "status": "completed"
    },
    "tags": []
   },
   "outputs": [],
   "source": [
    "results = preprocess_and_train(data, target='rings', task='regression')\n",
    "\n",
    "print(\"Rings Regression R^2: {:.4f}\".format(results))"
   ]
  },
  {
   "cell_type": "code",
   "execution_count": null,
   "metadata": {
    "execution": {
     "iopub.execute_input": "2021-01-04T23:48:30.753191Z",
     "iopub.status.busy": "2021-01-04T23:48:30.752202Z",
     "iopub.status.idle": "2021-01-04T23:48:31.269672Z",
     "shell.execute_reply": "2021-01-04T23:48:31.270251Z"
    },
    "papermill": {
     "duration": 0.548789,
     "end_time": "2021-01-04T23:48:31.270395",
     "exception": false,
     "start_time": "2021-01-04T23:48:30.721606",
     "status": "completed"
    },
    "tags": []
   },
   "outputs": [],
   "source": [
    "results = preprocess_and_train(data, target='rings', task='classification')\n",
    "\n",
    "print(\"Rings Classification Accuracy: {:.2f}%\".format(results * 100))"
   ]
  },
  {
   "cell_type": "markdown",
   "metadata": {
    "papermill": {
     "duration": 0.027479,
     "end_time": "2021-01-04T23:48:31.323364",
     "exception": false,
     "start_time": "2021-01-04T23:48:31.295885",
     "status": "completed"
    },
    "tags": []
   },
   "source": [
    "# Bibliografía\n",
    "\n",
    "***\n",
    "\n",
    "El link principal de referencia de Kaggle es: https://www.kaggle.com/hurshd0/abalone-uci\n",
    "\n",
    "El Dataset fue sacado originalmente del repositorio de UCI Machine Learning: https://archive.ics.uci.edu/ml/datasets/Abalone\n"
   ]
  }
 ],
 "metadata": {
  "kernelspec": {
   "display_name": "Python 3",
   "language": "python",
   "name": "python3"
  },
  "language_info": {
   "codemirror_mode": {
    "name": "ipython",
    "version": 3
   },
   "file_extension": ".py",
   "mimetype": "text/x-python",
   "name": "python",
   "nbconvert_exporter": "python",
   "pygments_lexer": "ipython3",
   "version": "3.8.3-final"
  },
  "papermill": {
   "duration": 8.820126,
   "end_time": "2021-01-04T23:48:32.436483",
   "environment_variables": {},
   "exception": null,
   "input_path": "__notebook__.ipynb",
   "output_path": "__notebook__.ipynb",
   "parameters": {},
   "start_time": "2021-01-04T23:48:23.616357",
   "version": "2.1.0"
  }
 },
 "nbformat": 4,
 "nbformat_minor": 4
}